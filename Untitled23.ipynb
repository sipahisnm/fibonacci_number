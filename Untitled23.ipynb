{
  "nbformat": 4,
  "nbformat_minor": 0,
  "metadata": {
    "colab": {
      "name": "Untitled23.ipynb",
      "provenance": [],
      "authorship_tag": "ABX9TyOFwgrfJNakHR/szuXoNUyI",
      "include_colab_link": true
    },
    "kernelspec": {
      "name": "python3",
      "display_name": "Python 3"
    }
  },
  "cells": [
    {
      "cell_type": "markdown",
      "metadata": {
        "id": "view-in-github",
        "colab_type": "text"
      },
      "source": [
        "<a href=\"https://colab.research.google.com/github/sipahisnm/fibonacci_number/blob/main/Untitled23.ipynb\" target=\"_parent\"><img src=\"https://colab.research.google.com/assets/colab-badge.svg\" alt=\"Open In Colab\"/></a>"
      ]
    },
    {
      "cell_type": "code",
      "metadata": {
        "colab": {
          "base_uri": "https://localhost:8080/"
        },
        "id": "PFah89at4Xcc",
        "outputId": "bfc00f08-7297-451b-c17c-34a07756ad36"
      },
      "source": [
        "a=int(input(\"Enter the terms\"))\r\n",
        "f=0                                         \r\n",
        "s=1                                         \r\n",
        "if a<=0:\r\n",
        "    print(\"The requested series is\",f)\r\n",
        "else:\r\n",
        "    print(f,s,end=\" \")\r\n",
        "    for x in range(2,a):\r\n",
        "        next=f+s                           \r\n",
        "        print(next,end=\" \")\r\n",
        "        f=s\r\n",
        "        s=next"
      ],
      "execution_count": 8,
      "outputs": [
        {
          "output_type": "stream",
          "text": [
            "Enter the terms11\n",
            "0 1 1 2 3 5 8 13 21 34 55 "
          ],
          "name": "stdout"
        }
      ]
    }
  ]
}